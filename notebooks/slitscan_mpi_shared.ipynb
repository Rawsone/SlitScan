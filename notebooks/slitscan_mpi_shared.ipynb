{
  "nbformat": 4,
  "nbformat_minor": 0,
  "metadata": {
    "colab": {
      "name": "slitscan.ipynb",
      "provenance": []
    },
    "kernelspec": {
      "name": "python3",
      "display_name": "Python 3"
    }
  },
  "cells": [
    {
      "cell_type": "markdown",
      "metadata": {
        "id": "gUu7Qp2e6BPK"
      },
      "source": [
        "# SlitScan MPI parallelization"
      ]
    },
    {
      "cell_type": "code",
      "metadata": {
        "id": "NAnuvtkpN_14",
        "colab": {
          "base_uri": "https://localhost:8080/"
        },
        "outputId": "36ac31c4-8b03-471e-8adc-83d695865172"
      },
      "source": [
        "!pip install mpi4py"
      ],
      "execution_count": null,
      "outputs": [
        {
          "output_type": "stream",
          "text": [
            "Collecting mpi4py\n",
            "\u001b[?25l  Downloading https://files.pythonhosted.org/packages/ec/8f/bbd8de5ba566dd77e408d8136e2bab7fdf2b97ce06cab830ba8b50a2f588/mpi4py-3.0.3.tar.gz (1.4MB)\n",
            "\u001b[K     |████████████████████████████████| 1.4MB 6.4MB/s \n",
            "\u001b[?25hBuilding wheels for collected packages: mpi4py\n",
            "  Building wheel for mpi4py (setup.py) ... \u001b[?25l\u001b[?25hdone\n",
            "  Created wheel for mpi4py: filename=mpi4py-3.0.3-cp36-cp36m-linux_x86_64.whl size=2074430 sha256=4d562de881c5e9e1d12554eea3ce0240bb55df1239044483df4c4fd8fce00af7\n",
            "  Stored in directory: /root/.cache/pip/wheels/18/e0/86/2b713dd512199096012ceca61429e12b960888de59818871d6\n",
            "Successfully built mpi4py\n",
            "Installing collected packages: mpi4py\n",
            "Successfully installed mpi4py-3.0.3\n"
          ],
          "name": "stdout"
        }
      ]
    },
    {
      "cell_type": "code",
      "metadata": {
        "colab": {
          "base_uri": "https://localhost:8080/"
        },
        "id": "5BXQAdPLB9n4",
        "outputId": "37e06e18-ad0a-44bb-fe1c-5bafe4d33018"
      },
      "source": [
        "!pip install vidgear"
      ],
      "execution_count": null,
      "outputs": [
        {
          "output_type": "stream",
          "text": [
            "Collecting vidgear\n",
            "\u001b[?25l  Downloading https://files.pythonhosted.org/packages/7c/b1/a227292534fb9c633bd58a1b02e892e2d64befc6cc42b1c868fcefb172c4/vidgear-0.1.9-py3-none-any.whl (83kB)\n",
            "\u001b[K     |████████████████████████████████| 92kB 4.5MB/s \n",
            "\u001b[?25hRequirement already satisfied: tqdm in /usr/local/lib/python3.6/dist-packages (from vidgear) (4.41.1)\n",
            "Collecting colorlog\n",
            "  Downloading https://files.pythonhosted.org/packages/4e/c8/c16d30bbed11a1722060014c246d124582d1f781b26f5859d8dacc3e08e1/colorlog-4.6.2-py2.py3-none-any.whl\n",
            "Requirement already satisfied: requests in /usr/local/lib/python3.6/dist-packages (from vidgear) (2.23.0)\n",
            "Requirement already satisfied: numpy in /usr/local/lib/python3.6/dist-packages (from vidgear) (1.19.4)\n",
            "Collecting youtube-dl\n",
            "\u001b[?25l  Downloading https://files.pythonhosted.org/packages/46/9c/69f5ede4f4b3e01390a9e9b355cb3bbe4e7550439bd0c33daa0faf87c1ba/youtube_dl-2020.12.14-py2.py3-none-any.whl (1.8MB)\n",
            "\u001b[K     |████████████████████████████████| 1.9MB 26.1MB/s \n",
            "\u001b[?25hRequirement already satisfied: pyzmq in /usr/local/lib/python3.6/dist-packages (from vidgear) (20.0.0)\n",
            "Collecting mss\n",
            "\u001b[?25l  Downloading https://files.pythonhosted.org/packages/d7/5f/77dece686b8d08a17430e169e936722693712b8cf1ee638caa8b1cb6452b/mss-6.1.0-py3-none-any.whl (76kB)\n",
            "\u001b[K     |████████████████████████████████| 81kB 8.5MB/s \n",
            "\u001b[?25hCollecting pafy\n",
            "  Downloading https://files.pythonhosted.org/packages/74/69/829919eeadff695338f98fa12bb99e45490761a2010c8d688d88b6df194a/pafy-0.5.5-py2.py3-none-any.whl\n",
            "Requirement already satisfied: certifi>=2017.4.17 in /usr/local/lib/python3.6/dist-packages (from requests->vidgear) (2020.12.5)\n",
            "Requirement already satisfied: idna<3,>=2.5 in /usr/local/lib/python3.6/dist-packages (from requests->vidgear) (2.10)\n",
            "Requirement already satisfied: chardet<4,>=3.0.2 in /usr/local/lib/python3.6/dist-packages (from requests->vidgear) (3.0.4)\n",
            "Requirement already satisfied: urllib3!=1.25.0,!=1.25.1,<1.26,>=1.21.1 in /usr/local/lib/python3.6/dist-packages (from requests->vidgear) (1.24.3)\n",
            "Installing collected packages: colorlog, youtube-dl, mss, pafy, vidgear\n",
            "Successfully installed colorlog-4.6.2 mss-6.1.0 pafy-0.5.5 vidgear-0.1.9 youtube-dl-2020.12.14\n"
          ],
          "name": "stdout"
        }
      ]
    },
    {
      "cell_type": "code",
      "metadata": {
        "colab": {
          "base_uri": "https://localhost:8080/"
        },
        "id": "0OX7fN0fjmqD",
        "outputId": "3ab7e619-5941-4c6f-ffa6-d9c1c564bce8"
      },
      "source": [
        "%%writefile slitscan_mpi.py\r\n",
        "import numpy as np\r\n",
        "from mpi4py import MPI\r\n",
        "import matplotlib \r\n",
        "from matplotlib import pyplot as plt\r\n",
        "from matplotlib import image as mpimg\r\n",
        "import cv2\r\n",
        "from vidgear.gears import WriteGear\r\n",
        "\r\n",
        "def main():\r\n",
        "    comm = MPI.COMM_WORLD\r\n",
        "    rank = comm.Get_rank()            \r\n",
        "    num_processes = comm.Get_size()\r\n",
        "\r\n",
        "    shape = (100, 100, 3)\r\n",
        "    frame_buf_len = shape[1]\r\n",
        "    total_frames = 200\r\n",
        "    itemsize = MPI.CHAR.Get_size()\r\n",
        "    if rank == 0:\r\n",
        "        nbytes = itemsize * np.prod(shape)\r\n",
        "    else:\r\n",
        "        nbytes = 0\r\n",
        "\r\n",
        "    shrcomm = comm.Split(MPI.COMM_TYPE_SHARED);\r\n",
        "    win = MPI.Win.Allocate_shared(nbytes, itemsize, comm=shrcomm)\r\n",
        "    buf, itemsize = win.Shared_query(0) \r\n",
        "    array = np.ndarray(buffer=buf, dtype=np.uint8, shape=shape) \r\n",
        "\r\n",
        "    # frames_start and frames_end shows which part of frame buffer handles specific process\r\n",
        "    frames_start = int(rank * frame_buf_len / num_processes)\r\n",
        "    if rank == num_processes - 1:\r\n",
        "        frames_end = int((rank + 1) * frame_buf_len / num_processes)\r\n",
        "    else:\r\n",
        "        frames_end = int((rank + 1) * frame_buf_len / num_processes)\r\n",
        "\r\n",
        "    # assert frames_end - frames_start == frame_buf_len\r\n",
        "\r\n",
        "    out_frames = np.zeros((int(frame_buf_len / num_processes), shape[0], shape[1], shape[2]), dtype=np.uint8)\r\n",
        "\r\n",
        "    if rank == 0:\r\n",
        "        cap = cv2.VideoCapture('hand_crop_100.mp4')\r\n",
        "        output_params = {\"-vcodec\" : \"libx264\"}\r\n",
        "        writer = WriteGear(output_filename='vid_out.mp4', logging=True, **output_params)\r\n",
        "    else:\r\n",
        "        writer = None\r\n",
        "    \r\n",
        "    writer = shrcomm.bcast(writer, root=0)\r\n",
        "    \r\n",
        "    for f in range(total_frames):\r\n",
        "        frame_bounds = (max(f - frame_buf_len + 1, 0), min(f + 1, total_frames - frame_buf_len + 1))\r\n",
        "        start_output = f - frame_buf_len + 1\r\n",
        "        if rank == 0:\r\n",
        "            ok, frame = cap.read()\r\n",
        "            if not ok:\r\n",
        "                print('BREAKING')\r\n",
        "                break\r\n",
        "            array[:, :, :] = frame[:, :, :]\r\n",
        "\r\n",
        "        for j in range(*frame_bounds):\r\n",
        "            if j % frame_buf_len >= frames_start and j % frame_buf_len < frames_end:\r\n",
        "                out_frames[j % frame_buf_len - frames_start, :, (f - (frames_start + j)) % frame_buf_len, :] = array[:, (f - (frames_start + j)) % frame_buf_len, :]\r\n",
        "\r\n",
        "            if start_output >= 0 and start_output % frame_buf_len >= frames_start and start_output % frame_buf_len < frames_end:\r\n",
        "                writer.write(out_frames[start_output % frame_buf_len - frames_start])\r\n",
        "\r\n",
        "        shrcomm.Barrier()\r\n",
        "\r\n",
        "    if rank == 0:\r\n",
        "        cap.release()\r\n",
        "        writer.close()\r\n",
        "\r\n",
        "main()"
      ],
      "execution_count": null,
      "outputs": [
        {
          "output_type": "stream",
          "text": [
            "Overwriting slitscan_mpi.py\n"
          ],
          "name": "stdout"
        }
      ]
    },
    {
      "cell_type": "code",
      "metadata": {
        "colab": {
          "base_uri": "https://localhost:8080/"
        },
        "id": "6GvdA61Le_G5",
        "outputId": "1f8809a8-b662-4b57-c10a-9a4c820db459"
      },
      "source": [
        "!mpirun --allow-run-as-root -np 4 python slitscan_mpi.py"
      ],
      "execution_count": null,
      "outputs": [
        {
          "output_type": "stream",
          "text": [
            "Traceback (most recent call last):\n",
            "  File \"slitscan_mpi.py\", line 73, in <module>\n",
            "    main()\n",
            "  File \"slitscan_mpi.py\", line 30, in main\n",
            "    if rank == num_procceses - 1:\n",
            "NameError: name 'num_procceses' is not defined\n",
            "Traceback (most recent call last):\n",
            "  File \"slitscan_mpi.py\", line 73, in <module>\n",
            "    main()\n",
            "  File \"slitscan_mpi.py\", line 30, in main\n",
            "    if rank == num_procceses - 1:\n",
            "NameError: name 'num_procceses' is not defined\n",
            "Traceback (most recent call last):\n",
            "  File \"slitscan_mpi.py\", line 73, in <module>\n",
            "    main()\n",
            "  File \"slitscan_mpi.py\", line 30, in main\n",
            "    if rank == num_procceses - 1:\n",
            "NameError: name 'num_procceses' is not defined\n",
            "Traceback (most recent call last):\n",
            "  File \"slitscan_mpi.py\", line 73, in <module>\n",
            "    main()\n",
            "  File \"slitscan_mpi.py\", line 30, in main\n",
            "    if rank == num_procceses - 1:\n",
            "NameError: name 'num_procceses' is not defined\n",
            "-------------------------------------------------------\n",
            "Primary job  terminated normally, but 1 process returned\n",
            "a non-zero exit code.. Per user-direction, the job has been aborted.\n",
            "-------------------------------------------------------\n",
            "--------------------------------------------------------------------------\n",
            "mpirun detected that one or more processes exited with non-zero status, thus causing\n",
            "the job to be terminated. The first process to do so was:\n",
            "\n",
            "  Process name: [[40040,1],1]\n",
            "  Exit code:    1\n",
            "--------------------------------------------------------------------------\n"
          ],
          "name": "stdout"
        }
      ]
    },
    {
      "cell_type": "code",
      "metadata": {
        "id": "LzCzdChundP5"
      },
      "source": [
        ""
      ],
      "execution_count": null,
      "outputs": []
    }
  ]
}